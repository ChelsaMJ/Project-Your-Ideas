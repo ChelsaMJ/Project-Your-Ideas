{
  "cells": [
    {
      "cell_type": "code",
      "source": [
        "import random\n",
        "\n",
        "# Function to generate a random number within the given range\n",
        "def generate_random_number(start, end):\n",
        "    return random.randint(start, end)\n",
        "\n",
        "# Function to get user input for the range\n",
        "def get_range():\n",
        "    while True:\n",
        "        try:\n",
        "            start, end = map(int, input(\"Enter the range (start and end separated by space): \").split())\n",
        "            if start < end:\n",
        "                return start, end\n",
        "            else:\n",
        "                print(\"Invalid range. The starting number should be less than the ending number.\")\n",
        "        except ValueError:\n",
        "            print(\"Invalid input. Please enter valid numbers separated by a space.\")\n",
        "\n",
        "# Function to get user input for guessing the number\n",
        "def get_guess():\n",
        "    while True:\n",
        "        try:\n",
        "            guess = int(input(\"Guess the number: \"))\n",
        "            return guess\n",
        "        except ValueError:\n",
        "            print(\"Invalid input. Please enter a number.\")\n",
        "\n",
        "# Function to check if the guess is correct\n",
        "def check_guess(guess, answer):\n",
        "    if guess == answer:\n",
        "        return True\n",
        "    else:\n",
        "        return False\n",
        "\n",
        "# Function to provide a hint based on the guess\n",
        "def give_hint(guess, answer):\n",
        "    if guess < answer:\n",
        "        print(\"The number is higher than your guess.\")\n",
        "    else:\n",
        "        print(\"The number is lower than your guess.\")\n",
        "\n",
        "# Function to play the game\n",
        "def play_game():\n",
        "    start, end = get_range()\n",
        "    answer = generate_random_number(start, end)\n",
        "    score = 100\n",
        "    while True:\n",
        "        guess = get_guess()\n",
        "        if check_guess(guess, answer):\n",
        "            print(\"Congratulations! You guessed the number.\")\n",
        "            print(\"Your final score is:\", score)\n",
        "            break\n",
        "        else:\n",
        "            give_hint(guess, answer)\n",
        "            score -= 10\n",
        "\n",
        "# Example usage\n",
        "play_game()\n"
      ],
      "metadata": {
        "colab": {
          "base_uri": "https://localhost:8080/"
        },
        "id": "_GyDUNzMk-ri",
        "outputId": "3a348ba0-f29c-4318-8f3d-66f0cff46f69"
      },
      "id": "_GyDUNzMk-ri",
      "execution_count": 3,
      "outputs": [
        {
          "output_type": "stream",
          "name": "stdout",
          "text": [
            "Enter the range (start and end separated by space): 1 20\n",
            "Guess the number: 15\n",
            "Congratulations! You guessed the number.\n",
            "Your final score is: 100\n"
          ]
        }
      ]
    }
  ],
  "metadata": {
    "kernelspec": {
      "display_name": "Python 3 (ipykernel)",
      "language": "python",
      "name": "python3"
    },
    "language_info": {
      "codemirror_mode": {
        "name": "ipython",
        "version": 3
      },
      "file_extension": ".py",
      "mimetype": "text/x-python",
      "name": "python",
      "nbconvert_exporter": "python",
      "pygments_lexer": "ipython3",
      "version": "3.9.13"
    },
    "colab": {
      "provenance": []
    }
  },
  "nbformat": 4,
  "nbformat_minor": 5
}