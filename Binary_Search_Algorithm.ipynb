{
  "nbformat": 4,
  "nbformat_minor": 0,
  "metadata": {
    "colab": {
      "provenance": []
    },
    "kernelspec": {
      "name": "python3",
      "display_name": "Python 3"
    },
    "language_info": {
      "name": "python"
    }
  },
  "cells": [
    {
      "cell_type": "code",
      "execution_count": 1,
      "metadata": {
        "colab": {
          "base_uri": "https://localhost:8080/"
        },
        "id": "mLLbUKefJ7BC",
        "outputId": "670191b0-0c72-4fcf-d1a2-45f74976d7cd"
      },
      "outputs": [
        {
          "output_type": "stream",
          "name": "stdout",
          "text": [
            "Enter the number of elements in the list: 100\n",
            "Enter the number to search for: 98\n",
            "Yes, the number is present at index 49\n",
            "[0, 2, 4, 6, 8, 10, 12, 14, 16, 18, 20, 22, 24, 26, 28, 30, 32, 34, 36, 38, 40, 42, 44, 46, 48, 50, 52, 54, 56, 58, 60, 62, 64, 66, 68, 70, 72, 74, 76, 78, 80, 82, 84, 86, 88, 90, 92, 94, 96, 98, 100, 102, 104, 106, 108, 110, 112, 114, 116, 118, 120, 122, 124, 126, 128, 130, 132, 134, 136, 138, 140, 142, 144, 146, 148, 150, 152, 154, 156, 158, 160, 162, 164, 166, 168, 170, 172, 174, 176, 178, 180, 182, 184, 186, 188, 190, 192, 194, 196, 198]\n"
          ]
        }
      ],
      "source": [
        "import random\n",
        "\n",
        "# Generate random nums with a difference of 2\n",
        "def generate_list(n):\n",
        "    lst = [random.randint(0, n) for i in range(n)]\n",
        "    lst.sort()\n",
        "    for i in range(1, len(lst)):\n",
        "        lst[i] = lst[i - 1] + 2\n",
        "    return lst\n",
        "\n",
        "# Binary search on a list\n",
        "def binary_search(lst, x):\n",
        "    start = 0\n",
        "    end = len(lst) + 1\n",
        "    while start <= end:\n",
        "        mid = (start + end) // 2\n",
        "        if lst[mid] == x:\n",
        "            return mid\n",
        "        elif lst[mid] < x:\n",
        "            start = mid + 1\n",
        "        else:\n",
        "            end = mid - 1\n",
        "    return -1\n",
        "\n",
        "# Get input from the user\n",
        "n = int(input(\"Enter the number of elements in the list: \"))\n",
        "x = int(input(\"Enter the number to search for: \"))\n",
        "\n",
        "# Generate a list and perform binary search\n",
        "lst = generate_list(n)\n",
        "result = binary_search(lst, x)\n",
        "\n",
        "# Print the result\n",
        "if result != -1:\n",
        "    print(\"Yes, the number is present at index\", result) #prints index where the item is present\n",
        "else:\n",
        "    print(\"The number isn't there in the list\")\n",
        "\n",
        "#printing list\n",
        "print(lst)\n"
      ]
    }
  ]
}